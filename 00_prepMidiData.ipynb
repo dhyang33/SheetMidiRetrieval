{
 "cells": [
  {
   "cell_type": "markdown",
   "metadata": {},
   "source": [
    "# Prepping Lakh Midi Data"
   ]
  },
  {
   "cell_type": "markdown",
   "metadata": {},
   "source": [
    "The purpose of this notebook is to generate a list of valid midi files in the Lakh Midi Dataset.  These midi files will be used to construct the searchable database.  To be valid, the midi file must satisfy the following conditions:\n",
    "- must contain solo piano only\n",
    "- parseable by mido\n",
    "- parseable by pretty_midi\n",
    "- not a duplicate of a midi file in the train/test set\n",
    "- has minimum number of note onset events (30)"
   ]
  },
  {
   "cell_type": "code",
   "execution_count": 1,
   "metadata": {},
   "outputs": [],
   "source": [
    "%matplotlib inline"
   ]
  },
  {
   "cell_type": "code",
   "execution_count": 106,
   "metadata": {},
   "outputs": [],
   "source": [
    "import numpy as np\n",
    "import matplotlib.pyplot as plt\n",
    "import os.path\n",
    "import glob\n",
    "from mido import MidiFile\n",
    "import pretty_midi\n",
    "import pickle"
   ]
  },
  {
   "cell_type": "markdown",
   "metadata": {},
   "source": [
    "### Solo piano only, parseable by mido"
   ]
  },
  {
   "cell_type": "code",
   "execution_count": 3,
   "metadata": {},
   "outputs": [],
   "source": [
    "src_dir = 'lmd_full'"
   ]
  },
  {
   "cell_type": "code",
   "execution_count": 4,
   "metadata": {},
   "outputs": [],
   "source": [
    "filelist_all = []\n",
    "for fname in glob.glob('{}/*/*.mid'.format(src_dir)):\n",
    "    filelist_all.append(fname)"
   ]
  },
  {
   "cell_type": "code",
   "execution_count": 5,
   "metadata": {},
   "outputs": [
    {
     "data": {
      "text/plain": [
       "178561"
      ]
     },
     "execution_count": 5,
     "metadata": {},
     "output_type": "execute_result"
    }
   ],
   "source": [
    "len(filelist_all)"
   ]
  },
  {
   "cell_type": "code",
   "execution_count": 6,
   "metadata": {},
   "outputs": [],
   "source": [
    "def isValidSoloPiano(infile):\n",
    "    try:\n",
    "        mid = MidiFile(infile)\n",
    "        for i, track in enumerate(mid.tracks):\n",
    "            #print(\"Track {}: {}\".format(i, track))\n",
    "            for msg in track:\n",
    "                if msg.type == 'program_change' and msg.program != 0:\n",
    "                    return False\n",
    "        return True\n",
    "    except:\n",
    "        return False # cannot be read in, invalid MIDI"
   ]
  },
  {
   "cell_type": "code",
   "execution_count": 7,
   "metadata": {},
   "outputs": [],
   "source": [
    "def getListSoloPiano(full_list):\n",
    "    filelist_piano = []\n",
    "    print('Processing ', end='')\n",
    "    for i, midfile in enumerate(full_list):\n",
    "        if isValidSoloPiano(midfile):\n",
    "            filelist_piano.append(midfile)\n",
    "        if i % 1000 == 0:\n",
    "            print('.', end='')\n",
    "    print(' done')\n",
    "    return filelist_piano"
   ]
  },
  {
   "cell_type": "code",
   "execution_count": 7,
   "metadata": {},
   "outputs": [
    {
     "name": "stdout",
     "output_type": "stream",
     "text": [
      "Processing ................................................................................................................................................................................... done\n"
     ]
    }
   ],
   "source": [
    "#filelist_piano = getListSoloPiano(filelist_all)"
   ]
  },
  {
   "cell_type": "code",
   "execution_count": 8,
   "metadata": {},
   "outputs": [
    {
     "data": {
      "text/plain": [
       "22286"
      ]
     },
     "execution_count": 8,
     "metadata": {},
     "output_type": "execute_result"
    }
   ],
   "source": [
    "len(filelist_piano)"
   ]
  },
  {
   "cell_type": "code",
   "execution_count": 8,
   "metadata": {},
   "outputs": [],
   "source": [
    "def dumpToFile(filelist, outfile):\n",
    "    with open(outfile, 'w') as f:\n",
    "        for curfile in filelist:\n",
    "            f.write('{}\\n'.format(curfile))"
   ]
  },
  {
   "cell_type": "code",
   "execution_count": 9,
   "metadata": {},
   "outputs": [],
   "source": [
    "def loadFilelist(infile):\n",
    "    lines = []\n",
    "    with open(infile, 'r') as f:\n",
    "        for line in f:\n",
    "            lines.append(line.strip())\n",
    "    return lines"
   ]
  },
  {
   "cell_type": "code",
   "execution_count": 10,
   "metadata": {},
   "outputs": [],
   "source": [
    "lakh_piano_filelist = 'tmp/lakh.piano.list'"
   ]
  },
  {
   "cell_type": "code",
   "execution_count": 11,
   "metadata": {},
   "outputs": [],
   "source": [
    "#dumpToFile(filelist_piano, lakh_piano_filelist)\n",
    "filelist_piano = loadFilelist(lakh_piano_filelist)"
   ]
  },
  {
   "cell_type": "markdown",
   "metadata": {},
   "source": [
    "### Not a duplicate of a midi file in the train/test set"
   ]
  },
  {
   "cell_type": "code",
   "execution_count": 12,
   "metadata": {},
   "outputs": [],
   "source": [
    "def getTrainTestFilelist():\n",
    "    r = []\n",
    "    for i in range(1,101):\n",
    "        midfile = 'data/midi/p{}.mid'.format(i)\n",
    "        r.append(midfile)\n",
    "    return  r"
   ]
  },
  {
   "cell_type": "code",
   "execution_count": 13,
   "metadata": {},
   "outputs": [],
   "source": [
    "def getNoteHistogram(midfile):\n",
    "    result = np.zeros(128)\n",
    "    mid = MidiFile(midfile)\n",
    "    for i, track in enumerate(mid.tracks):\n",
    "        for msg in track:\n",
    "            if msg.type == 'note_on' and msg.velocity > 0 and msg.note >= 21 and msg.note <= 108:\n",
    "                result[msg.note] += 1\n",
    "    return result"
   ]
  },
  {
   "cell_type": "code",
   "execution_count": 14,
   "metadata": {},
   "outputs": [],
   "source": [
    "def getNoteHistogram_batch(midfiles):\n",
    "    R = np.zeros((len(midfiles), 128))\n",
    "    for i, midfile in enumerate(midfiles):\n",
    "        R[i, :] = getNoteHistogram(midfile)\n",
    "    return R"
   ]
  },
  {
   "cell_type": "code",
   "execution_count": 15,
   "metadata": {},
   "outputs": [],
   "source": [
    "filelist_query = getTrainTestFilelist()"
   ]
  },
  {
   "cell_type": "code",
   "execution_count": 16,
   "metadata": {},
   "outputs": [],
   "source": [
    "hist_queries = getNoteHistogram_batch(filelist_query)"
   ]
  },
  {
   "cell_type": "code",
   "execution_count": 17,
   "metadata": {},
   "outputs": [],
   "source": [
    "hist_filler = getNoteHistogram_batch(filelist_piano)"
   ]
  },
  {
   "cell_type": "code",
   "execution_count": 21,
   "metadata": {},
   "outputs": [],
   "source": [
    "with open('tmp/hist_filler.pkl', 'wb') as f:\n",
    "    pickle.dump(hist_filler, f)"
   ]
  },
  {
   "cell_type": "code",
   "execution_count": null,
   "metadata": {},
   "outputs": [],
   "source": [
    "with open('tmp/hist_filler.pkl', 'rb') as f:\n",
    "    hist_filler = pickle.load(f)"
   ]
  },
  {
   "cell_type": "code",
   "execution_count": 22,
   "metadata": {},
   "outputs": [],
   "source": [
    "def calcHistDistances(hist_query_batch, hist_filler_batch):\n",
    "    D = np.zeros((hist_query_batch.shape[0], hist_filler_batch.shape[0]))\n",
    "    for i in range(hist_query_batch.shape[0]):\n",
    "        hist_q = hist_query_batch[i, :]\n",
    "        numQueryNotes = np.sum(hist_q)\n",
    "        D[i,:] = np.sum(np.abs(hist_q.reshape((1,-1)) - hist_filler_batch), axis=1) / numQueryNotes\n",
    "    return D"
   ]
  },
  {
   "cell_type": "code",
   "execution_count": 23,
   "metadata": {},
   "outputs": [],
   "source": [
    "def visualizeDistances(D):\n",
    "    plt.figure(figsize=(18,6))\n",
    "    plt.subplot(1,2,1)\n",
    "    plt.hist(D.reshape(-1), bins = np.arange(0,2,.01))\n",
    "    plt.xlabel('Normalized Histogram Distance')\n",
    "    plt.ylabel('Count')\n",
    "    plt.subplot(1,2,2)\n",
    "    plt.hist(D.reshape(-1), bins = np.arange(0,.5,.01))\n",
    "    plt.xlabel('Normalized Histogram Distance')\n",
    "    plt.ylabel('Count')"
   ]
  },
  {
   "cell_type": "code",
   "execution_count": 24,
   "metadata": {},
   "outputs": [],
   "source": [
    "D = calcHistDistances(hist_queries, hist_filler)"
   ]
  },
  {
   "cell_type": "code",
   "execution_count": 25,
   "metadata": {},
   "outputs": [
    {
     "data": {
      "image/png": "[encoded data removed]",
      "text/plain": [
       "<Figure size 1296x432 with 2 Axes>"
      ]
     },
     "metadata": {
      "needs_background": "light"
     },
     "output_type": "display_data"
    }
   ],
   "source": [
    "visualizeDistances(D)"
   ]
  },
  {
   "cell_type": "code",
   "execution_count": 26,
   "metadata": {},
   "outputs": [],
   "source": [
    "def getListOfPotentialDuplicates(D, thresh):\n",
    "    idxs = np.array(np.argwhere(D < thresh))[:,1]\n",
    "    return idxs"
   ]
  },
  {
   "cell_type": "code",
   "execution_count": 87,
   "metadata": {},
   "outputs": [],
   "source": [
    "idxs_duplicate = getListOfPotentialDuplicates(D, 0.3)"
   ]
  },
  {
   "cell_type": "code",
   "execution_count": 88,
   "metadata": {},
   "outputs": [
    {
     "data": {
      "text/plain": [
       "321"
      ]
     },
     "execution_count": 88,
     "metadata": {},
     "output_type": "execute_result"
    }
   ],
   "source": [
    "len(idxs_duplicate)"
   ]
  },
  {
   "cell_type": "markdown",
   "metadata": {},
   "source": [
    "### Has minimum number of note onset events"
   ]
  },
  {
   "cell_type": "code",
   "execution_count": 89,
   "metadata": {},
   "outputs": [],
   "source": [
    "def getListOfEmptyMidiFiles(H, thresh = 0):\n",
    "    totalNotes = np.sum(H[:,20:109], axis=1) # valid note range is [21, 108] inclusive\n",
    "    return np.nonzero(totalNotes <= thresh)[0]"
   ]
  },
  {
   "cell_type": "code",
   "execution_count": 90,
   "metadata": {},
   "outputs": [],
   "source": [
    "idxs_empty = getListOfEmptyMidiFiles(hist_filler, 30)"
   ]
  },
  {
   "cell_type": "code",
   "execution_count": 94,
   "metadata": {},
   "outputs": [
    {
     "data": {
      "text/plain": [
       "1904"
      ]
     },
     "execution_count": 94,
     "metadata": {},
     "output_type": "execute_result"
    }
   ],
   "source": [
    "len(idxs_empty)"
   ]
  },
  {
   "cell_type": "markdown",
   "metadata": {},
   "source": [
    "### Parseable by pretty_midi"
   ]
  },
  {
   "cell_type": "code",
   "execution_count": 108,
   "metadata": {},
   "outputs": [],
   "source": [
    "def getListOfCorruptMidiFiles(filelist_piano):\n",
    "    idxs = []\n",
    "    for i, fullpath in enumerate(filelist_piano):\n",
    "        try:\n",
    "            midi_data = pretty_midi.PrettyMIDI(fullpath)\n",
    "            noteTimes = midi_data.get_onsets()\n",
    "        except:\n",
    "            idxs.append(i)\n",
    "    return idxs"
   ]
  },
  {
   "cell_type": "code",
   "execution_count": 109,
   "metadata": {},
   "outputs": [
    {
     "name": "stderr",
     "output_type": "stream",
     "text": [
      "/home/tjtsai/anaconda2/envs/SheetMidiRetrieval/lib/python3.6/site-packages/pretty_midi/pretty_midi.py:100: RuntimeWarning: Tempo, Key or Time signature change events found on non-zero tracks.  This is not a valid type 0 or type 1 MIDI file.  Tempo, Key or Time Signature may be wrong.\n",
      "  RuntimeWarning)\n"
     ]
    }
   ],
   "source": [
    "idxs_corrupt = getListOfCorruptMidiFiles(filelist_piano)"
   ]
  },
  {
   "cell_type": "code",
   "execution_count": 110,
   "metadata": {},
   "outputs": [
    {
     "data": {
      "text/plain": [
       "25"
      ]
     },
     "execution_count": 110,
     "metadata": {},
     "output_type": "execute_result"
    }
   ],
   "source": [
    "len(idxs_corrupt)"
   ]
  },
  {
   "cell_type": "code",
   "execution_count": 111,
   "metadata": {},
   "outputs": [],
   "source": [
    "with open('tmp/corrupt.pkl', 'wb') as f:\n",
    "    pickle.dump(idxs_corrupt, f)"
   ]
  },
  {
   "cell_type": "code",
   "execution_count": 118,
   "metadata": {},
   "outputs": [],
   "source": [
    "with open('tmp/corrupt.pkl', 'rb') as f:\n",
    "    idxs_corrupt = pickle.load(f)"
   ]
  },
  {
   "cell_type": "markdown",
   "metadata": {},
   "source": [
    "### Create a pruned list of acceptable midi files"
   ]
  },
  {
   "cell_type": "code",
   "execution_count": 113,
   "metadata": {},
   "outputs": [],
   "source": [
    "idxsToRemove = []\n",
    "idxsToRemove.extend(idxs_duplicate)\n",
    "idxsToRemove.extend(idxs_empty)\n",
    "idxsToRemove.extend(idxs_corrupt)"
   ]
  },
  {
   "cell_type": "code",
   "execution_count": 114,
   "metadata": {},
   "outputs": [],
   "source": [
    "filelist_piano_pruned = [x for i, x in enumerate(filelist_piano) if i not in idxsToRemove]"
   ]
  },
  {
   "cell_type": "code",
   "execution_count": 115,
   "metadata": {},
   "outputs": [
    {
     "data": {
      "text/plain": [
       "20042"
      ]
     },
     "execution_count": 115,
     "metadata": {},
     "output_type": "execute_result"
    }
   ],
   "source": [
    "len(filelist_piano_pruned)"
   ]
  },
  {
   "cell_type": "code",
   "execution_count": 116,
   "metadata": {},
   "outputs": [],
   "source": [
    "with open('cfg_files/lakh.pruned.list', 'w') as f:\n",
    "    for curfile in filelist_piano_pruned:\n",
    "        f.write('{}\\n'.format(curfile))"
   ]
  },
  {
   "cell_type": "code",
   "execution_count": null,
   "metadata": {},
   "outputs": [],
   "source": []
  }
 ],
 "metadata": {
  "kernelspec": {
   "display_name": "SheetMidiRetrieval",
   "language": "python",
   "name": "sheetmidiretrieval"
  },
  "language_info": {
   "codemirror_mode": {
    "name": "ipython",
    "version": 3
   },
   "file_extension": ".py",
   "mimetype": "text/x-python",
   "name": "python",
   "nbconvert_exporter": "python",
   "pygments_lexer": "ipython3",
   "version": "3.6.8"
  }
 },
 "nbformat": 4,
 "nbformat_minor": 2
}
