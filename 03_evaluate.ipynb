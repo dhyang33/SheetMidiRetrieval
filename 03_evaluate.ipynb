{
 "cells": [
  {
   "cell_type": "code",
   "execution_count": 1,
   "metadata": {},
   "outputs": [],
   "source": [
    "%matplotlib inline"
   ]
  },
  {
   "cell_type": "code",
   "execution_count": 2,
   "metadata": {},
   "outputs": [],
   "source": [
    "import numpy as np\n",
    "import matplotlib.pyplot as plt\n",
    "import glob\n",
    "import os.path\n",
    "import pretty_midi"
   ]
  },
  {
   "cell_type": "markdown",
   "metadata": {},
   "source": [
    "### Generate ground truth labels"
   ]
  },
  {
   "cell_type": "code",
   "execution_count": 3,
   "metadata": {},
   "outputs": [],
   "source": [
    "def importScoreInfo(scoreDir):\n",
    "    d = {}\n",
    "    for csvfile in glob.glob(\"{}/p*.scoreinfo.csv\".format(scoreDir)):\n",
    "        pieceStr = os.path.basename(csvfile).split('.')[0]  # e.g. 'p7'\n",
    "        d[pieceStr] = {}\n",
    "        with open(csvfile, 'r') as f:\n",
    "            next(f) # skip header\n",
    "            for line in f:\n",
    "                parts = line.rstrip().split(',')\n",
    "                linenum = int(parts[0])\n",
    "                startmeasure = int(parts[1])\n",
    "                endmeasure = int(parts[2])\n",
    "                d[pieceStr][linenum] = (startmeasure, endmeasure)\n",
    "    return d"
   ]
  },
  {
   "cell_type": "code",
   "execution_count": 4,
   "metadata": {},
   "outputs": [],
   "source": [
    "scoreDir = 'data/score_info'\n",
    "scoreInfo = importScoreInfo(scoreDir)"
   ]
  },
  {
   "cell_type": "code",
   "execution_count": 5,
   "metadata": {},
   "outputs": [],
   "source": [
    "def importMidiInfo(midiInfoDir, midiDir):\n",
    "    d = {}\n",
    "    for csvfile in glob.glob(\"{}/p*_midinfo.csv\".format(midiInfoDir)):\n",
    "        pieceStr = os.path.basename(csvfile).split('_')[0]  # e.g. 'p7'\n",
    "        d[pieceStr] = {}\n",
    "        with open(csvfile, 'r') as f:\n",
    "            for line in f:\n",
    "                parts = line.rstrip().split(',')\n",
    "                measure = int(parts[0])\n",
    "                time = float(parts[1])\n",
    "                d[pieceStr][measure] = time\n",
    "        \n",
    "        # add an additional entry to indicate the total duration\n",
    "        midfile = \"{}/{}.mid\".format(midiDir, pieceStr)\n",
    "        mid = pretty_midi.PrettyMIDI(midfile)\n",
    "        totalDur = mid.get_piano_roll().shape[1] * .01 # default fs = 100\n",
    "        d[pieceStr][measure+1] = totalDur\n",
    "                \n",
    "    return d"
   ]
  },
  {
   "cell_type": "code",
   "execution_count": 6,
   "metadata": {},
   "outputs": [
    {
     "name": "stderr",
     "output_type": "stream",
     "text": [
      "/home/tjtsai/anaconda2/envs/SheetMidiRetrieval/lib/python3.6/site-packages/pretty_midi/pretty_midi.py:100: RuntimeWarning: Tempo, Key or Time signature change events found on non-zero tracks.  This is not a valid type 0 or type 1 MIDI file.  Tempo, Key or Time Signature may be wrong.\n",
      "  RuntimeWarning)\n"
     ]
    }
   ],
   "source": [
    "midiInfoDir = 'data/midi_info'\n",
    "midiDir = 'data/midi'\n",
    "midiInfo = importMidiInfo(midiInfoDir, midiDir)"
   ]
  },
  {
   "cell_type": "code",
   "execution_count": 7,
   "metadata": {},
   "outputs": [],
   "source": [
    "def getQueryGroundTruth(infile, multMatchFile, scoreInfo, midiInfo):\n",
    "    # infers ground truth timestamps for each query\n",
    "    d = {}\n",
    "    with open(infile, 'r') as fin: \n",
    "        next(fin) # skip header\n",
    "        for line in fin:\n",
    "\n",
    "            # get start, end lines\n",
    "            parts = line.rstrip().split(',')  # e.g. 'p1_q1,0,3'\n",
    "            queryStr = parts[0]\n",
    "            startLine = int(parts[1])\n",
    "            endLine = int(parts[2])\n",
    "\n",
    "            # infer start, end measure\n",
    "            pieceStr = queryStr.split('_')[0]\n",
    "            #print(\"%s,%s,%s\" % (queryStr, startLine,endLine))            \n",
    "            startMeasure = scoreInfo[pieceStr][startLine][0]\n",
    "            endMeasure = scoreInfo[pieceStr][endLine][1]\n",
    "\n",
    "            # infer start, end time\n",
    "            #print(\"%s,%s,%s\" % (queryStr, startMeasure, endMeasure))\n",
    "            startTime = midiInfo[pieceStr][startMeasure]\n",
    "            endTime = midiInfo[pieceStr][endMeasure+1] # ends on downbeat of next measure\n",
    "\n",
    "            d[queryStr] = [(startTime, endTime, startMeasure, endMeasure, startLine, endLine)]\n",
    "\n",
    "    addMultipleMatches(d, multMatchFile, scoreInfo, midiInfo)\n",
    "            \n",
    "    return d                "
   ]
  },
  {
   "cell_type": "code",
   "execution_count": 8,
   "metadata": {},
   "outputs": [],
   "source": [
    "def addMultipleMatches(d, multMatchFile, scoreInfo, midiInfo):\n",
    "    # some queries match more than 1 segment of the score, these are indicated in multMatchFile\n",
    "    with open(multMatchFile, 'r') as f:\n",
    "        for line in f:\n",
    "            \n",
    "            # parse line \n",
    "            parts = line.rstrip().split(',')  # e.g. 'p31_q8,L3m6,L5m1'\n",
    "            queryStr = parts[0]\n",
    "            pieceStr = queryStr.split('_')[0]\n",
    "            startStr = parts[1]\n",
    "            endStr = parts[2]\n",
    "            \n",
    "            # infer start, end measure\n",
    "            startLine = int(startStr.split('m')[0][1:])\n",
    "            endLine = int(endStr.split('m')[0][1:])\n",
    "            startOffset = int(startStr.split('m')[1])\n",
    "            endOffset = int(endStr.split('m')[1])\n",
    "            startMeasure = scoreInfo[pieceStr][startLine][0] + startOffset - 1\n",
    "            endMeasure = scoreInfo[pieceStr][endLine][0] + endOffset - 1\n",
    "            \n",
    "            # infer start, end time\n",
    "            startTime = midiInfo[pieceStr][startMeasure]\n",
    "            endTime = midiInfo[pieceStr][endMeasure+1] # ends on downbeat of next measure\n",
    "            \n",
    "            tup = (startTime, endTime, startMeasure, endMeasure, startStr, endStr) # startStr more informative than startLine\n",
    "            d[queryStr].append(tup)\n",
    "            \n",
    "    return d"
   ]
  },
  {
   "cell_type": "code",
   "execution_count": 9,
   "metadata": {},
   "outputs": [],
   "source": [
    "def saveQueryInfoToFile(d, outfile):\n",
    "    with open(outfile, 'w') as f:\n",
    "        for query in sorted(d):\n",
    "            for (tstart, tend, mstart, mend, lstart, lend) in d[query]:\n",
    "                f.write('{},{:.2f},{:.2f},{},{},{},{}\\n'.format(query, tstart, tend, mstart, mend, lstart, lend))"
   ]
  },
  {
   "cell_type": "code",
   "execution_count": 10,
   "metadata": {},
   "outputs": [],
   "source": [
    "queryInfoFile = 'data/query_info/query_info.csv' # to read\n",
    "multMatchesFile = 'data/query_info/query.multmatches' # to read\n",
    "queryGTFile = 'data/query_info/query.gt' # to write\n",
    "queryInfo = getQueryGroundTruth(queryInfoFile, multMatchesFile, scoreInfo, midiInfo)\n",
    "saveQueryInfoToFile(queryInfo, queryGTFile)"
   ]
  },
  {
   "cell_type": "markdown",
   "metadata": {},
   "source": [
    "### Evaluate system performance"
   ]
  },
  {
   "cell_type": "code",
   "execution_count": 11,
   "metadata": {},
   "outputs": [],
   "source": [
    "def readGroundTruthLabels(gtfile):\n",
    "    d = {}\n",
    "    with open(gtfile, 'r') as f:\n",
    "        for line in f:\n",
    "            parts = line.rstrip().split(',') # e.g. 'p1_q1,1.55,32.59'\n",
    "            queryStr = parts[0]\n",
    "            tstart = float(parts[1])\n",
    "            tend = float(parts[2])\n",
    "            if queryStr in d:\n",
    "                d[queryStr].append((tstart, tend))\n",
    "            else:\n",
    "                d[queryStr] = [(tstart, tend)]\n",
    "    return d"
   ]
  },
  {
   "cell_type": "code",
   "execution_count": 12,
   "metadata": {},
   "outputs": [],
   "source": [
    "def readHypothesisFiles(hypdir):\n",
    "    l = []\n",
    "    for hypfile in sorted(glob.glob(\"{}/*.hyp\".format(hypdir))):\n",
    "        with open(hypfile, 'r') as f:\n",
    "            line = next(f)\n",
    "            parts = line.rstrip().split(',')\n",
    "            query = parts[0]  # e.g. p1_q1\n",
    "            tstart = float(parts[1])\n",
    "            tend = float(parts[2])\n",
    "            l.append((query, tstart, tend))\n",
    "    return l"
   ]
  },
  {
   "cell_type": "code",
   "execution_count": 13,
   "metadata": {},
   "outputs": [],
   "source": [
    "def calcPrecisionRecall(hypdir, gtfile):\n",
    "    d = readGroundTruthLabels(gtfile)\n",
    "    hyps = readHypothesisFiles(hypdir)\n",
    "    hypinfo = [] \n",
    "    overlapTotal, hypTotal, refTotal = (0,0,0)\n",
    "    for (queryid, hypstart, hypend) in hyps:\n",
    "        refSegments = d[queryid]\n",
    "        idxMax = 0\n",
    "        overlapMax = 0\n",
    "        for i, refSegment in enumerate(refSegments): # find ref segment with most overlap\n",
    "            overlap = calcOverlap((hypstart, hypend), refSegment)\n",
    "            if overlap > overlapMax:\n",
    "                idxMax = i\n",
    "                overlapMax = overlap\n",
    "        hyplen = hypend - hypstart\n",
    "        reflen = refSegments[idxMax][1] - refSegments[idxMax][0]        \n",
    "        overlapTotal += overlapMax\n",
    "        hypTotal += hyplen\n",
    "        refTotal += reflen\n",
    "        hypinfo.append((queryid, overlapMax, refSegments[idxMax][0], refSegments[idxMax][1], idxMax)) # keep for error analysis\n",
    "    P = overlapTotal / hypTotal\n",
    "    R = overlapTotal / refTotal\n",
    "    F = 2 * P * R / (P + R)\n",
    "    return F, P, R, hypinfo"
   ]
  },
  {
   "cell_type": "code",
   "execution_count": 14,
   "metadata": {},
   "outputs": [],
   "source": [
    "def calcOverlap(seg1, seg2):\n",
    "    overlap_lb = max(seg1[0], seg2[0])\n",
    "    overlap_ub = min(seg1[1], seg2[1])\n",
    "    overlap = np.clip(overlap_ub - overlap_lb, 0, None)\n",
    "    return overlap    "
   ]
  },
  {
   "cell_type": "code",
   "execution_count": 29,
   "metadata": {},
   "outputs": [],
   "source": [
    "hypdir = 'experiments/baseline/hyp3'\n",
    "F, P, R, hypinfo = calcPrecisionRecall(hypdir, queryGTFile)"
   ]
  },
  {
   "cell_type": "code",
   "execution_count": 30,
   "metadata": {},
   "outputs": [
    {
     "data": {
      "text/plain": [
       "(0.8064190693905589, 0.8389972922424143, 0.7762762995449074, 100)"
      ]
     },
     "execution_count": 30,
     "metadata": {},
     "output_type": "execute_result"
    }
   ],
   "source": [
    "F, P, R, len(hypinfo)"
   ]
  },
  {
   "cell_type": "markdown",
   "metadata": {},
   "source": [
    "### Investigate Errors"
   ]
  },
  {
   "cell_type": "code",
   "execution_count": 43,
   "metadata": {},
   "outputs": [],
   "source": [
    "def printDebuggingInfo(hypdir, gtfile, scoreInfo, midiInfo, queryInfo, hypInfo):\n",
    "    d = readGroundTruthLabels(gtfile)\n",
    "    hyps = readHypothesisFiles(hypdir)\n",
    "    for i, (query, hyp_tstart, hyp_tend) in enumerate(hyps):\n",
    "        \n",
    "        # hyp and ref info (sec)\n",
    "        piece = query.split('_')[0]\n",
    "        _, overlap, ref_tstart, ref_tend, bestIdx = hypInfo[i]\n",
    "        \n",
    "        # hyp and ref info (measures)\n",
    "        interp_m = list(midiInfo[piece].keys())\n",
    "        interp_t = [midiInfo[piece][m] for m in interp_m]\n",
    "        hyp_mstart, hyp_mend, ref_mstart, ref_mend = np.interp([hyp_tstart, hyp_tend, ref_tstart, ref_tend], interp_t, interp_m)\n",
    "        moverlap = calcOverlap((hyp_mstart, hyp_mend),(ref_mstart, ref_mend))\n",
    "        \n",
    "        # hyp and ref info (line # + measure offset)\n",
    "        hyp_lstart, hyp_lstartoff = getLineNumberMeasureOffset(hyp_mstart, scoreInfo[piece])\n",
    "        hyp_lend, hyp_lendoff = getLineNumberMeasureOffset(hyp_mend, scoreInfo[piece])\n",
    "        ref_lstart = queryInfo[query][bestIdx][4]\n",
    "        ref_lend = queryInfo[query][bestIdx][5]\n",
    "        \n",
    "        # compare in sec\n",
    "        print(\"{}: hyp ({:.1f} s,{:.1f} s), ref ({:.1f} s,{:.1f} s), overlap {:.1f} of {:.1f} s\".format(query, hyp_tstart, hyp_tend, ref_tstart, ref_tend, overlap, ref_tend - ref_tstart))\n",
    "        \n",
    "        # compare in measure numbers\n",
    "        #print(\"\\thyp ({:.1f} m, {:.1f} m), ref ({:.1f} m, {:.1f} m), overlap {:.1f} m\".format(hyp_mstart, hyp_mend, ref_mstart, ref_mend, moverlap))\n",
    "        \n",
    "        # compare in line + measure offset\n",
    "        print(\"\\thyp (ln {} m{:.1f}, ln {} m{:.1f}), ref (ln {}, ln {})\".format(hyp_lstart, hyp_lstartoff, hyp_lend, hyp_lendoff, ref_lstart, ref_lend))\n",
    "    return"
   ]
  },
  {
   "cell_type": "code",
   "execution_count": 44,
   "metadata": {},
   "outputs": [],
   "source": [
    "def getLineNumberMeasureOffset(measureNum, d):\n",
    "    line = -1\n",
    "    moffset = -1\n",
    "    for key in d:\n",
    "        lb, ub = d[key] # line start, end measure \n",
    "        if measureNum >= lb and measureNum < ub + 1:\n",
    "            line = key\n",
    "            moffset = measureNum - lb + 1\n",
    "            break\n",
    "    return line, moffset"
   ]
  },
  {
   "cell_type": "code",
   "execution_count": 45,
   "metadata": {},
   "outputs": [
    {
     "name": "stdout",
     "output_type": "stream",
     "text": [
      "p11_q1: hyp (274.6 s,283.1 s), ref (1.6 s,25.1 s), overlap 0.0 of 23.4 s\n",
      "\thyp (ln 36 m2.5, ln 38 m2.6), ref (ln 1, ln 2)\n",
      "p11_q10: hyp (274.9 s,281.7 s), ref (536.3 s,550.9 s), overlap 0.0 of 14.6 s\n",
      "\thyp (ln 36 m2.6, ln 38 m2.0), ref (ln 77, ln 79)\n",
      "p11_q2: hyp (17.3 s,32.2 s), ref (25.1 s,57.2 s), overlap 7.1 of 32.1 s\n",
      "\thyp (ln 2 m3.5, ln 3 m3.8), ref (ln 3, ln 5)\n",
      "p11_q3: hyp (277.0 s,283.5 s), ref (65.0 s,83.6 s), overlap 0.0 of 18.6 s\n",
      "\thyp (ln 37 m1.7, ln 38 m2.8), ref (ln 7, ln 9)\n",
      "p11_q4: hyp (469.6 s,474.4 s), ref (83.6 s,111.5 s), overlap 0.0 of 28.0 s\n",
      "\thyp (ln 64 m3.6, ln 65 m2.8), ref (ln 10, ln 12)\n",
      "p11_q5: hyp (189.8 s,211.0 s), ref (189.6 s,209.5 s), overlap 19.8 of 20.0 s\n",
      "\thyp (ln 24 m1.1, ln 27 m1.7), ref (ln 24, ln 26)\n",
      "p11_q6: hyp (225.2 s,248.7 s), ref (225.3 s,248.8 s), overlap 23.4 of 23.5 s\n",
      "\thyp (ln 28 m5.0, ln 31 m4.0), ref (ln 29, ln 31)\n",
      "p11_q7: hyp (197.8 s,203.1 s), ref (34.8 s,57.2 s), overlap 0.0 of 22.4 s\n",
      "\thyp (ln 25 m2.1, ln 26 m2.8), ref (ln 4, ln 5)\n",
      "p11_q8: hyp (273.0 s,283.7 s), ref (327.4 s,354.6 s), overlap 0.0 of 27.2 s\n",
      "\thyp (ln 36 m1.6, ln 38 m2.9), ref (ln 45, ln 47)\n",
      "p11_q9: hyp (393.4 s,396.2 s), ref (499.6 s,526.8 s), overlap 0.0 of 27.1 s\n",
      "\thyp (ln 53 m1.8, ln 53 m3.1), ref (ln 72, ln 74)\n",
      "p1_q1: hyp (0.0 s,29.2 s), ref (0.0 s,29.5 s), overlap 29.2 of 29.5 s\n",
      "\thyp (ln 1 m1.0, ln 3 m4.9), ref (ln 1, ln 3)\n",
      "p1_q10: hyp (226.1 s,251.2 s), ref (226.1 s,250.9 s), overlap 24.8 of 24.8 s\n",
      "\thyp (ln 19 m5.0, ln 23 m1.1), ref (ln 20, ln 22)\n",
      "p1_q2: hyp (17.1 s,51.0 s), ref (17.1 s,51.2 s), overlap 33.9 of 34.1 s\n",
      "\thyp (ln 3 m1.0, ln 5 m4.9), ref (ln 3, ln 5)\n",
      "p1_q3: hyp (38.5 s,63.4 s), ref (38.8 s,63.6 s), overlap 24.6 of 24.8 s\n",
      "\thyp (ln 4 m3.9, ln 6 m4.9), ref (ln 5, ln 6)\n",
      "p1_q4: hyp (63.4 s,89.3 s), ref (63.6 s,89.6 s), overlap 25.7 of 25.9 s\n",
      "\thyp (ln 6 m4.9, ln 8 m4.9), ref (ln 7, ln 8)\n",
      "p1_q5: hyp (76.7 s,115.2 s), ref (76.7 s,115.4 s), overlap 38.4 of 38.7 s\n",
      "\thyp (ln 7 m5.0, ln 10 m4.9), ref (ln 8, ln 10)\n",
      "p1_q6: hyp (102.7 s,137.3 s), ref (102.7 s,137.7 s), overlap 34.7 of 35.1 s\n",
      "\thyp (ln 9 m5.0, ln 12 m3.9), ref (ln 10, ln 12)\n",
      "p1_q7: hyp (137.5 s,162.8 s), ref (137.7 s,163.1 s), overlap 25.1 of 25.3 s\n",
      "\thyp (ln 12 m3.9, ln 14 m4.9), ref (ln 13, ln 14)\n",
      "p1_q8: hyp (149.8 s,187.6 s), ref (149.8 s,187.9 s), overlap 37.8 of 38.0 s\n",
      "\thyp (ln 14 m1.0, ln 16 m4.9), ref (ln 14, ln 16)\n",
      "p1_q9: hyp (187.9 s,212.4 s), ref (187.9 s,212.7 s), overlap 24.6 of 24.8 s\n",
      "\thyp (ln 16 m5.0, ln 18 m4.9), ref (ln 17, ln 18)\n",
      "p21_q1: hyp (0.6 s,12.6 s), ref (0.0 s,12.9 s), overlap 12.0 of 12.9 s\n",
      "\thyp (ln 1 m1.7, ln 3 m4.7), ref (ln 1, ln 3)\n",
      "p21_q10: hyp (99.8 s,101.5 s), ref (156.9 s,164.6 s), overlap 0.0 of 7.7 s\n",
      "\thyp (ln 27 m4.4, ln 28 m2.4), ref (ln 44, ln 45)\n",
      "p21_q2: hyp (99.4 s,102.9 s), ref (20.6 s,31.7 s), overlap 0.0 of 11.1 s\n",
      "\thyp (ln 27 m4.0, ln 28 m4.0), ref (ln 6, ln 8)\n",
      "p21_q3: hyp (97.2 s,101.2 s), ref (38.6 s,49.7 s), overlap 0.0 of 11.1 s\n",
      "\thyp (ln 27 m1.4, ln 28 m2.1), ref (ln 11, ln 13)\n",
      "p21_q4: hyp (44.7 s,49.5 s), ref (45.4 s,58.3 s), overlap 4.1 of 12.9 s\n",
      "\thyp (ln 12 m4.1, ln 13 m5.7), ref (ln 13, ln 15)\n",
      "p21_q5: hyp (65.1 s,75.3 s), ref (65.1 s,75.4 s), overlap 10.2 of 10.3 s\n",
      "\thyp (ln 17 m4.9, ln 20 m4.9), ref (ln 18, ln 20)\n",
      "p21_q6: hyp (82.2 s,93.3 s), ref (82.3 s,93.4 s), overlap 11.0 of 11.1 s\n",
      "\thyp (ln 22 m4.9, ln 25 m4.9), ref (ln 23, ln 25)\n",
      "p21_q7: hyp (100.2 s,111.3 s), ref (100.3 s,111.4 s), overlap 11.0 of 11.1 s\n",
      "\thyp (ln 27 m4.9, ln 30 m5.9), ref (ln 28, ln 30)\n",
      "p21_q8: hyp (111.3 s,121.3 s), ref (111.4 s,121.7 s), overlap 9.9 of 10.3 s\n",
      "\thyp (ln 30 m5.9, ln 33 m4.5), ref (ln 31, ln 33)\n",
      "p21_q9: hyp (45.9 s,49.1 s), ref (132.0 s,143.1 s), overlap 0.0 of 11.1 s\n",
      "\thyp (ln 13 m1.5, ln 13 m5.2), ref (ln 37, ln 39)\n",
      "p31_q1: hyp (2.8 s,15.1 s), ref (0.0 s,15.5 s), overlap 12.4 of 15.5 s\n",
      "\thyp (ln 1 m3.7, ln 2 m7.7), ref (ln 1, ln 2)\n",
      "p31_q10: hyp (139.2 s,154.7 s), ref (137.1 s,158.1 s), overlap 15.4 of 21.0 s\n",
      "\thyp (ln 19 m3.0, ln 21 m5.7), ref (ln 19, ln 21)\n",
      "p31_q2: hyp (2.8 s,23.3 s), ref (0.0 s,23.9 s), overlap 20.6 of 23.9 s\n",
      "\thyp (ln 1 m3.7, ln 3 m8.5), ref (ln 1, ln 3)\n",
      "p31_q3: hyp (8.2 s,32.1 s), ref (8.2 s,32.2 s), overlap 23.8 of 24.0 s\n",
      "\thyp (ln 1 m9.0, ln 4 m8.8), ref (ln 2, ln 4)\n",
      "p31_q4: hyp (15.5 s,37.6 s), ref (15.5 s,40.0 s), overlap 22.1 of 24.5 s\n",
      "\thyp (ln 2 m8.0, ln 5 m6.2), ref (ln 3, ln 5)\n",
      "p31_q5: hyp (23.8 s,32.1 s), ref (23.9 s,40.0 s), overlap 8.2 of 16.1 s\n",
      "\thyp (ln 3 m8.9, ln 4 m8.8), ref (ln 4, ln 5)\n",
      "p31_q6: hyp (3.1 s,21.1 s), ref (40.0 s,64.1 s), overlap 0.0 of 24.1 s\n",
      "\thyp (ln 1 m4.0, ln 3 m6.3), ref (ln 6, ln 8)\n",
      "p31_q7: hyp (58.6 s,70.5 s), ref (55.5 s,80.0 s), overlap 11.9 of 24.5 s\n",
      "\thyp (ln 8 m4.0, ln 9 m6.6), ref (ln 8, ln 10)\n",
      "p31_q8: hyp (20.4 s,33.1 s), ref (20.7 s,33.3 s), overlap 12.4 of 12.6 s\n",
      "\thyp (ln 3 m5.7, ln 5 m1.8), ref (ln L3m6, ln L5m1)\n",
      "p31_q9: hyp (34.3 s,54.1 s), ref (33.3 s,54.5 s), overlap 19.8 of 21.2 s\n",
      "\thyp (ln 5 m3.0, ln 7 m6.7), ref (ln L5m2, ln L7m6)\n",
      "p41_q1: hyp (12.6 s,26.6 s), ref (0.0 s,12.3 s), overlap 0.0 of 12.3 s\n",
      "\thyp (ln 3 m1.3, ln 5 m3.2), ref (ln 1, ln 2)\n",
      "p41_q10: hyp (72.8 s,92.2 s), ref (72.9 s,93.3 s), overlap 19.3 of 20.4 s\n",
      "\thyp (ln 11 m7.8, ln 14 m9.0), ref (ln 12, ln 14)\n",
      "p41_q2: hyp (60.9 s,81.0 s), ref (62.2 s,81.1 s), overlap 18.8 of 18.9 s\n",
      "\thyp (ln 10 m3.5, ln 13 m2.8), ref (ln L10m5, ln L13m2)\n",
      "p41_q3: hyp (12.3 s,31.3 s), ref (12.3 s,31.5 s), overlap 19.0 of 19.1 s\n",
      "\thyp (ln 3 m1.0, ln 5 m8.8), ref (ln 3, ln 5)\n",
      "p41_q4: hyp (18.8 s,39.1 s), ref (18.9 s,39.1 s), overlap 20.2 of 20.2 s\n",
      "\thyp (ln 3 m8.8, ln 7 m1.0), ref (ln 4, ln 6)\n",
      "p41_q5: hyp (2.2 s,5.5 s), ref (31.5 s,45.0 s), overlap 0.0 of 13.6 s\n",
      "\thyp (ln 1 m3.7, ln 1 m7.7), ref (ln 6, ln 7)\n",
      "p41_q6: hyp (7.5 s,29.6 s), ref (45.0 s,58.6 s), overlap 0.0 of 13.6 s\n",
      "\thyp (ln 2 m2.2, ln 5 m6.7), ref (ln 8, ln 9)\n",
      "p41_q7: hyp (45.0 s,67.0 s), ref (45.0 s,67.1 s), overlap 21.9 of 22.1 s\n",
      "\thyp (ln 7 m8.0, ln 10 m10.8), ref (ln 8, ln 10)\n",
      "p41_q8: hyp (58.6 s,79.2 s), ref (58.6 s,79.5 s), overlap 20.6 of 20.9 s\n",
      "\thyp (ln 9 m9.0, ln 12 m8.7), ref (ln 10, ln 12)\n",
      "p41_q9: hyp (4.9 s,22.9 s), ref (67.1 s,85.3 s), overlap 0.0 of 18.2 s\n",
      "\thyp (ln 1 m7.0, ln 4 m5.7), ref (ln 11, ln 13)\n",
      "p51_q1: hyp (29.8 s,33.9 s), ref (0.0 s,8.8 s), overlap 0.0 of 8.8 s\n",
      "\thyp (ln 7 m6.8, ln 8 m4.4), ref (ln 1, ln 2)\n",
      "p51_q10: hyp (32.4 s,39.9 s), ref (43.2 s,52.3 s), overlap 0.0 of 9.1 s\n",
      "\thyp (ln 8 m2.3, ln 9 m4.5), ref (ln 10, ln 11)\n",
      "p51_q2: hyp (36.2 s,39.7 s), ref (0.0 s,13.2 s), overlap 0.0 of 13.2 s\n",
      "\thyp (ln 8 m7.5, ln 9 m4.3), ref (ln 1, ln 3)\n",
      "p51_q3: hyp (33.3 s,38.6 s), ref (4.4 s,17.6 s), overlap 0.0 of 13.2 s\n",
      "\thyp (ln 8 m3.5, ln 9 m2.8), ref (ln 2, ln 4)\n",
      "p51_q4: hyp (30.4 s,39.1 s), ref (4.4 s,21.2 s), overlap 0.0 of 16.8 s\n",
      "\thyp (ln 7 m7.5, ln 9 m3.5), ref (ln 2, ln 5)\n",
      "p51_q5: hyp (30.9 s,39.5 s), ref (17.6 s,25.6 s), overlap 0.0 of 8.1 s\n",
      "\thyp (ln 7 m8.2, ln 9 m4.0), ref (ln 5, ln 6)\n",
      "p51_q6: hyp (36.0 s,41.0 s), ref (25.6 s,37.3 s), overlap 1.3 of 11.7 s\n",
      "\thyp (ln 8 m7.3, ln 9 m6.0), ref (ln 7, ln 8)\n",
      "p51_q7: hyp (31.1 s,38.7 s), ref (25.6 s,43.2 s), overlap 7.6 of 17.6 s\n",
      "\thyp (ln 7 m8.5, ln 9 m2.9), ref (ln 7, ln 9)\n",
      "p51_q8: hyp (25.4 s,38.7 s), ref (31.5 s,48.3 s), overlap 7.2 of 16.8 s\n",
      "\thyp (ln 6 m6.8, ln 9 m2.9), ref (ln 8, ln 10)\n",
      "p51_q9: hyp (37.1 s,46.6 s), ref (37.3 s,52.3 s), overlap 9.3 of 15.0 s\n",
      "\thyp (ln 8 m8.7, ln 10 m5.8), ref (ln 9, ln 11)\n",
      "p61_q1: hyp (64.6 s,66.9 s), ref (6.6 s,16.5 s), overlap 0.0 of 9.9 s\n",
      "\thyp (ln 20 m2.2, ln 20 m5.1), ref (ln 3, ln 5)\n",
      "p61_q10: hyp (100.2 s,103.4 s), ref (103.1 s,114.7 s), overlap 0.3 of 11.5 s\n",
      "\thyp (ln 29 m1.5, ln 30 m1.4), ref (ln 30, ln 32)\n",
      "p61_q3: hyp (64.7 s,65.1 s), ref (60.2 s,76.7 s), overlap 0.4 of 16.5 s\n",
      "\thyp (ln 20 m2.4, ln 20 m2.9), ref (ln 19, ln 21)\n",
      "p61_q4: hyp (33.9 s,34.2 s), ref (73.4 s,82.5 s), overlap 0.0 of 9.1 s\n",
      "\thyp (ln 11 m2.1, ln 11 m2.5), ref (ln 21, ln 23)\n",
      "p61_q5: hyp (32.5 s,32.9 s), ref (92.4 s,103.1 s), overlap 0.0 of 10.7 s\n",
      "\thyp (ln 10 m4.4, ln 10 m4.9), ref (ln 27, ln 29)\n",
      "p61_q6: hyp (134.7 s,135.5 s), ref (0.0 s,9.9 s), overlap 0.0 of 9.9 s\n",
      "\thyp (ln 39 m1.2, ln 39 m2.3), ref (ln 1, ln 3)\n",
      "p61_q7: hyp (134.5 s,136.8 s), ref (23.1 s,33.0 s), overlap 0.0 of 9.9 s\n",
      "\thyp (ln 39 m1.0, ln 39 m3.8), ref (ln 8, ln 10)\n",
      "p61_q8: hyp (40.2 s,41.9 s), ref (39.6 s,49.5 s), overlap 1.6 of 9.9 s\n",
      "\thyp (ln 13 m1.7, ln 13 m3.7), ref (ln 13, ln 15)\n",
      "p61_q9: hyp (141.2 s,142.0 s), ref (56.9 s,73.4 s), overlap 0.0 of 16.5 s\n",
      "\thyp (ln 40 m5.1, ln 41 m1.1), ref (ln 18, ln 20)\n",
      "p71_q1: hyp (0.0 s,15.3 s), ref (0.0 s,15.3 s), overlap 15.3 of 15.3 s\n",
      "\thyp (ln 1 m1.0, ln 3 m5.0), ref (ln 1, ln 3)\n",
      "p71_q10: hyp (31.6 s,46.8 s), ref (31.7 s,47.4 s), overlap 15.1 of 15.7 s\n",
      "\thyp (ln 7 m3.9, ln 10 m4.1), ref (ln 8, ln 10)\n",
      "p71_q2: hyp (9.9 s,23.4 s), ref (9.9 s,23.5 s), overlap 13.5 of 13.6 s\n",
      "\thyp (ln 3 m1.0, ln 5 m3.9), ref (ln 3, ln 5)\n",
      "p71_q3: hyp (23.4 s,31.7 s), ref (23.5 s,31.7 s), overlap 8.2 of 8.2 s\n",
      "\thyp (ln 5 m3.9, ln 7 m4.0), ref (ln 6, ln 7)\n",
      "p71_q4: hyp (27.4 s,42.5 s), ref (27.6 s,42.6 s), overlap 14.9 of 15.0 s\n",
      "\thyp (ln 6 m3.9, ln 9 m4.9), ref (ln 7, ln 9)\n",
      "p71_q5: hyp (36.5 s,46.8 s), ref (31.7 s,47.4 s), overlap 10.3 of 15.7 s\n",
      "\thyp (ln 8 m4.5, ln 10 m4.1), ref (ln 8, ln 10)\n",
      "p71_q6: hyp (3.2 s,9.6 s), ref (0.0 s,15.3 s), overlap 6.3 of 15.3 s\n",
      "\thyp (ln 1 m4.1, ln 2 m4.8), ref (ln 1, ln 3)\n",
      "p71_q7: hyp (9.5 s,23.4 s), ref (9.9 s,23.5 s), overlap 13.5 of 13.6 s\n",
      "\thyp (ln 2 m4.7, ln 5 m3.9), ref (ln 3, ln 5)\n",
      "p71_q8: hyp (23.4 s,31.5 s), ref (23.5 s,31.7 s), overlap 8.0 of 8.2 s\n",
      "\thyp (ln 5 m3.9, ln 7 m3.9), ref (ln 6, ln 7)\n",
      "p71_q9: hyp (27.4 s,42.5 s), ref (27.6 s,42.6 s), overlap 14.9 of 15.0 s\n",
      "\thyp (ln 6 m3.8, ln 9 m4.9), ref (ln 7, ln 9)\n",
      "p81_q1: hyp (10.0 s,55.0 s), ref (13.3 s,57.8 s), overlap 41.7 of 44.5 s\n",
      "\thyp (ln 1 m4.0, ln 4 m4.9), ref (ln 2, ln 4)\n",
      "p81_q10: hyp (418.3 s,435.1 s), ref (417.5 s,426.9 s), overlap 8.7 of 9.5 s\n",
      "\thyp (ln 42 m1.3, ln 43 m4.0), ref (ln 42, ln 42)\n",
      "p81_q2: hyp (44.2 s,67.9 s), ref (57.8 s,99.4 s), overlap 10.1 of 41.6 s\n",
      "\thyp (ln 4 m1.3, ln 5 m4.5), ref (ln 5, ln 7)\n",
      "p81_q3: hyp (42.2 s,85.9 s), ref (142.5 s,171.2 s), overlap 0.0 of 28.8 s\n",
      "\thyp (ln 3 m4.7, ln 7 m1.5), ref (ln 12, ln 14)\n",
      "p81_q4: hyp (170.2 s,198.3 s), ref (181.0 s,206.0 s), overlap 17.3 of 25.0 s\n",
      "\thyp (ln 14 m4.6, ln 17 m4.9), ref (ln 16, ln 18)\n",
      "p81_q5: hyp (357.3 s,399.1 s), ref (370.1 s,398.5 s), overlap 28.4 of 28.4 s\n",
      "\thyp (ln 35 m2.3, ln 40 m1.2), ref (ln 37, ln 39)\n",
      "p81_q6: hyp (223.0 s,266.0 s), ref (226.2 s,266.3 s), overlap 39.8 of 40.1 s\n",
      "\thyp (ln 20 m6.0, ln 23 m5.9), ref (ln 21, ln 23)\n",
      "p81_q7: hyp (277.3 s,315.0 s), ref (278.3 s,315.4 s), overlap 36.8 of 37.1 s\n",
      "\thyp (ln 24 m4.7, ln 27 m4.8), ref (ln 25, ln 27)\n",
      "p81_q8: hyp (304.3 s,331.5 s), ref (305.3 s,331.8 s), overlap 26.2 of 26.6 s\n",
      "\thyp (ln 26 m4.7, ln 29 m4.8), ref (ln 27, ln 29)\n",
      "p81_q9: hyp (406.9 s,437.1 s), ref (398.5 s,417.5 s), overlap 10.5 of 19.0 s\n",
      "\thyp (ln 40 m4.6, ln 43 m4.7), ref (ln 40, ln 41)\n",
      "p91_q1: hyp (138.7 s,164.0 s), ref (134.2 s,160.5 s), overlap 21.8 of 26.3 s\n",
      "\thyp (ln 18 m2.7, ln 21 m2.5), ref (ln 18, ln 20)\n",
      "p91_q10: hyp (28.1 s,52.1 s), ref (93.6 s,117.8 s), overlap 0.0 of 24.2 s\n",
      "\thyp (ln 4 m2.4, ln 7 m2.7), ref (ln 13, ln 15)\n",
      "p91_q2: hyp (157.9 s,178.3 s), ref (153.4 s,174.7 s), overlap 16.8 of 21.3 s\n",
      "\thyp (ln 20 m2.8, ln 23 m2.6), ref (ln 20, ln 22)\n",
      "p91_q3: hyp (198.4 s,203.2 s), ref (174.7 s,189.7 s), overlap 0.0 of 15.1 s\n",
      "\thyp (ln 26 m1.5, ln 26 m3.7), ref (ln 23, ln 24)\n",
      "p91_q4: hyp (195.3 s,215.4 s), ref (189.7 s,212.3 s), overlap 17.0 of 22.6 s\n",
      "\thyp (ln 25 m3.1, ln 28 m2.4), ref (ln 25, ln 27)\n",
      "p91_q5: hyp (227.5 s,248.0 s), ref (225.2 s,244.2 s), overlap 16.8 of 19.0 s\n",
      "\thyp (ln 30 m2.0, ln 33 m3.0), ref (ln 30, ln 32)\n",
      "p91_q6: hyp (0.0 s,24.9 s), ref (0.0 s,24.4 s), overlap 24.4 of 24.4 s\n",
      "\thyp (ln 1 m1.0, ln 4 m1.2), ref (ln 1, ln 3)\n",
      "p91_q7: hyp (167.9 s,168.8 s), ref (16.4 s,39.9 s), overlap 0.0 of 23.5 s\n",
      "\thyp (ln 22 m1.2, ln 22 m1.5), ref (ln 3, ln 5)\n",
      "p91_q8: hyp (186.5 s,187.9 s), ref (39.9 s,63.9 s), overlap 0.0 of 24.0 s\n",
      "\thyp (ln 24 m2.7, ln 24 m3.3), ref (ln 6, ln 8)\n",
      "p91_q9: hyp (66.0 s,89.7 s), ref (63.9 s,85.8 s), overlap 19.8 of 21.9 s\n",
      "\thyp (ln 9 m1.8, ln 12 m2.5), ref (ln 9, ln 11)\n"
     ]
    }
   ],
   "source": [
    "printDebuggingInfo(hypdir, queryGTFile, scoreInfo, midiInfo, queryInfo, hypinfo)"
   ]
  },
  {
   "cell_type": "code",
   "execution_count": null,
   "metadata": {},
   "outputs": [],
   "source": []
  },
  {
   "cell_type": "markdown",
   "metadata": {},
   "source": [
    "### Measure Runtime"
   ]
  },
  {
   "cell_type": "code",
   "execution_count": 19,
   "metadata": {},
   "outputs": [],
   "source": [
    "def showRuntimeStats(indir):\n",
    "    durs = []\n",
    "    cnt = 0\n",
    "    for hypfile in glob.glob('{}/*.hyp'.format(indir)):\n",
    "        cnt += 1\n",
    "        with open(hypfile, 'r') as f:\n",
    "            line = next(f)\n",
    "            parts = line.split(',')\n",
    "            dur = float(parts[3])\n",
    "            durs.append(dur)\n",
    "    durs = np.array(durs)\n",
    "    avgDur = np.mean(durs)\n",
    "    minDur = np.min(durs)\n",
    "    maxDur = np.max(durs)\n",
    "    stdDur = np.std(durs)\n",
    "    print('{} files'.format(cnt))\n",
    "    print('Avg Duration: {:.2f} sec'.format(avgDur))\n",
    "    print('Std Duration: {:.2f} sec'.format(stdDur))\n",
    "    print('Min Duration: {:.2f} sec'.format(minDur))\n",
    "    print('Max Duration: {:.2f} sec'.format(maxDur))\n",
    "    plt.hist(durs, bins=np.arange(0,2,.1))\n",
    "    plt.xlabel('Runtime (sec)')\n",
    "    plt.ylabel('Count')"
   ]
  },
  {
   "cell_type": "code",
   "execution_count": 20,
   "metadata": {},
   "outputs": [
    {
     "name": "stdout",
     "output_type": "stream",
     "text": [
      "100 files\n",
      "Avg Duration: 2.85 sec\n",
      "Std Duration: 0.44 sec\n",
      "Min Duration: 2.08 sec\n",
      "Max Duration: 4.06 sec\n"
     ]
    },
    {
     "data": {
      "image/png": "[encoded data removed]",
      "text/plain": [
       "<Figure size 432x288 with 1 Axes>"
      ]
     },
     "metadata": {
      "needs_background": "light"
     },
     "output_type": "display_data"
    }
   ],
   "source": [
    "showRuntimeStats(hypdir)"
   ]
  },
  {
   "cell_type": "code",
   "execution_count": null,
   "metadata": {},
   "outputs": [],
   "source": []
  }
 ],
 "metadata": {
  "kernelspec": {
   "display_name": "SheetMidiRetrieval",
   "language": "python",
   "name": "sheetmidiretrieval"
  },
  "language_info": {
   "codemirror_mode": {
    "name": "ipython",
    "version": 3
   },
   "file_extension": ".py",
   "mimetype": "text/x-python",
   "name": "python",
   "nbconvert_exporter": "python",
   "pygments_lexer": "ipython3",
   "version": "3.6.8"
  }
 },
 "nbformat": 4,
 "nbformat_minor": 2
}
