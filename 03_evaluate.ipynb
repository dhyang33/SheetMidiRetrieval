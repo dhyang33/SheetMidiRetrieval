{
 "cells": [
  {
   "cell_type": "code",
   "execution_count": 1,
   "metadata": {},
   "outputs": [],
   "source": [
    "%matplotlib inline"
   ]
  },
  {
   "cell_type": "code",
   "execution_count": 2,
   "metadata": {},
   "outputs": [],
   "source": [
    "import numpy as np\n",
    "import matplotlib.pyplot as plt\n",
    "import glob\n",
    "import os.path\n",
    "import pretty_midi\n",
    "\n",
    "# to remove later\n",
    "import re"
   ]
  },
  {
   "cell_type": "markdown",
   "metadata": {},
   "source": [
    "### Generate ground truth labels"
   ]
  },
  {
   "cell_type": "code",
   "execution_count": 3,
   "metadata": {},
   "outputs": [],
   "source": [
    "def importScoreInfo(scoreDir):\n",
    "    d = {}\n",
    "    for csvfile in glob.glob(\"{}/p*1.scoreinfo.csv\".format(scoreDir)): ### TO DO: REMOVE 1\n",
    "        pieceStr = os.path.basename(csvfile).split('.')[0]  # e.g. 'p7'\n",
    "        d[pieceStr] = {}\n",
    "        with open(csvfile, 'r') as f:\n",
    "            next(f) # skip header\n",
    "            for line in f:\n",
    "                parts = line.rstrip().split(',')\n",
    "                linenum = int(parts[0])\n",
    "                startmeasure = int(parts[1])\n",
    "                endmeasure = int(parts[2])\n",
    "                d[pieceStr][linenum] = (startmeasure, endmeasure)\n",
    "    return d"
   ]
  },
  {
   "cell_type": "code",
   "execution_count": 4,
   "metadata": {},
   "outputs": [],
   "source": [
    "scoreDir = 'score_info'\n",
    "scoreInfo = importScoreInfo(scoreDir)"
   ]
  },
  {
   "cell_type": "code",
   "execution_count": 5,
   "metadata": {},
   "outputs": [],
   "source": [
    "def importMidiInfo(midiInfoDir, midiDir):\n",
    "    d = {}\n",
    "    for csvfile in glob.glob(\"{}/p*1_midinfo.csv\".format(midiInfoDir)): ### TO DO: REMOVE 1\n",
    "        pieceStr = os.path.basename(csvfile).split('_')[0]  # e.g. 'p7'\n",
    "        d[pieceStr] = {}\n",
    "        with open(csvfile, 'r') as f:\n",
    "            for line in f:\n",
    "                parts = line.rstrip().split(',')\n",
    "                measure = int(parts[0])\n",
    "                time = float(parts[1])\n",
    "                d[pieceStr][measure] = time\n",
    "        \n",
    "        # add an additional entry to indicate the total duration\n",
    "        midfile = \"{}/{}.mid\".format(midiDir, pieceStr)\n",
    "        mid = pretty_midi.PrettyMIDI(midfile)\n",
    "        totalDur = mid.get_piano_roll().shape[1] * .01 # default fs = 100\n",
    "        d[pieceStr][measure+1] = totalDur\n",
    "                \n",
    "    return d"
   ]
  },
  {
   "cell_type": "code",
   "execution_count": 6,
   "metadata": {},
   "outputs": [
    {
     "name": "stderr",
     "output_type": "stream",
     "text": [
      "/anaconda3/envs/sheetmidiretrieval/lib/python3.6/site-packages/pretty_midi/pretty_midi.py:100: RuntimeWarning: Tempo, Key or Time signature change events found on non-zero tracks.  This is not a valid type 0 or type 1 MIDI file.  Tempo, Key or Time Signature may be wrong.\n",
      "  RuntimeWarning)\n"
     ]
    }
   ],
   "source": [
    "midiInfoDir = 'midi_info'\n",
    "midiDir = 'midi'\n",
    "midiInfo = importMidiInfo(midiInfoDir, midiDir)"
   ]
  },
  {
   "cell_type": "code",
   "execution_count": 7,
   "metadata": {},
   "outputs": [],
   "source": [
    "def getQueryGroundTruth(infile, scoreInfo, midiInfo):\n",
    "    # infers ground truth timestamps for each query\n",
    "    d = {}\n",
    "    with open(infile, 'r') as fin: \n",
    "        next(fin) # skip header\n",
    "        for line in fin:\n",
    "\n",
    "            # get start, end lines\n",
    "            parts = line.rstrip().split(',')  # e.g. 'p1_q1,0,3'\n",
    "            queryStr = parts[0]\n",
    "            startLine = int(parts[1])\n",
    "            endLine = int(parts[2])\n",
    "\n",
    "            # infer start, end measure\n",
    "            pieceStr = queryStr.split('_')[0]\n",
    "\n",
    "            m = re.search(r'^p\\d*1$', pieceStr) ### TO DO: REMOVE\n",
    "            if not m: # doesn't match\n",
    "                continue\n",
    "\n",
    "            #print(\"%s,%s,%s\" % (queryStr, startLine,endLine))\n",
    "            startMeasure = scoreInfo[pieceStr][startLine][0]\n",
    "            endMeasure = scoreInfo[pieceStr][endLine][1]\n",
    "\n",
    "            # infer start, end time\n",
    "            #print(\"%s,%s,%s\" % (queryStr, startMeasure, endMeasure))\n",
    "            startTime = midiInfo[pieceStr][startMeasure]\n",
    "            endTime = midiInfo[pieceStr][endMeasure+1] # ends on downbeat of next measure\n",
    "\n",
    "            d[queryStr] = (startTime, endTime, startMeasure, endMeasure, startLine, endLine)\n",
    "                \n",
    "    return d                "
   ]
  },
  {
   "cell_type": "code",
   "execution_count": 8,
   "metadata": {},
   "outputs": [],
   "source": [
    "def saveQueryInfoToFile(d, outfile):\n",
    "    with open(outfile, 'w') as f:\n",
    "        for query in d:\n",
    "            (tstart, tend, mstart, mend, lstart, lend) = d[query]\n",
    "            f.write('{},{:.2f},{:.2f},{},{},{},{}\\n'.format(query, tstart, tend, mstart, mend, lstart, lend))"
   ]
  },
  {
   "cell_type": "code",
   "execution_count": 9,
   "metadata": {},
   "outputs": [],
   "source": [
    "queryInfoFile = 'query_info/query_info.csv' # to read\n",
    "queryGTFile = 'query_info/query.gt' # to write\n",
    "queryInfo = getQueryGroundTruth(queryInfoFile, scoreInfo, midiInfo)\n",
    "saveQueryInfoToFile(queryInfo, queryGTFile)"
   ]
  },
  {
   "cell_type": "markdown",
   "metadata": {},
   "source": [
    "### Evaluate system performance"
   ]
  },
  {
   "cell_type": "code",
   "execution_count": 19,
   "metadata": {},
   "outputs": [],
   "source": [
    "def readGroundTruthLabels(gtfile):\n",
    "    d = {}\n",
    "    with open(gtfile, 'r') as f:\n",
    "        for line in f:\n",
    "            parts = line.rstrip().split(',') # e.g. 'p1_q1,1.55,32.59'\n",
    "            queryStr = parts[0]\n",
    "            tstart = float(parts[1])\n",
    "            tend = float(parts[2])\n",
    "            d[queryStr] = (tstart, tend)\n",
    "    return d"
   ]
  },
  {
   "cell_type": "code",
   "execution_count": 20,
   "metadata": {},
   "outputs": [],
   "source": [
    "def readHypothesisFiles(hypdir):\n",
    "    l = []\n",
    "    for hypfile in sorted(glob.glob(\"{}/*.hyp\".format(hypdir))):\n",
    "        with open(hypfile, 'r') as f:\n",
    "            line = next(f)\n",
    "            parts = line.rstrip().split(',')\n",
    "            query = parts[0]  # e.g. p1_q1\n",
    "            tstart = float(parts[1])\n",
    "            tend = float(parts[2])\n",
    "            l.append((query, tstart, tend))\n",
    "    return l"
   ]
  },
  {
   "cell_type": "code",
   "execution_count": 21,
   "metadata": {},
   "outputs": [],
   "source": [
    "def calcPrecisionRecall(hypdir, gtfile):\n",
    "    d = readGroundTruthLabels(gtfile)\n",
    "    hyps = readHypothesisFiles(hypdir)\n",
    "    hypinfo = [] \n",
    "    overlapTotal, hypTotal, refTotal = (0,0,0)\n",
    "    for (queryid, hypstart, hypend) in hyps:\n",
    "        refSegment = d[queryid]\n",
    "        overlap = calcOverlap((hypstart, hypend), refSegment)\n",
    "        hyplen = hypend - hypstart\n",
    "        reflen = refSegment[1] - refSegment[0]        \n",
    "        overlapTotal += overlap\n",
    "        hypTotal += hyplen\n",
    "        refTotal += reflen\n",
    "        hypinfo.append((queryid, overlap, hyplen, reflen)) # keep for error analysis\n",
    "    P = overlapTotal / hypTotal\n",
    "    R = overlapTotal / refTotal\n",
    "    F = 2 * P * R / (P + R)\n",
    "    return F, P, R, hypinfo"
   ]
  },
  {
   "cell_type": "code",
   "execution_count": 22,
   "metadata": {},
   "outputs": [],
   "source": [
    "def calcOverlap(seg1, seg2):\n",
    "    overlap_lb = max(seg1[0], seg2[0])\n",
    "    overlap_ub = min(seg1[1], seg2[1])\n",
    "    overlap = np.clip(overlap_ub - overlap_lb, 0, None)\n",
    "    return overlap    "
   ]
  },
  {
   "cell_type": "code",
   "execution_count": 33,
   "metadata": {},
   "outputs": [],
   "source": [
    "hypdir = 'experiments/exp1/hyp/cur'\n",
    "F, P, R, hypinfo = calcPrecisionRecall(hypdir, queryGTFile)"
   ]
  },
  {
   "cell_type": "code",
   "execution_count": 34,
   "metadata": {},
   "outputs": [
    {
     "data": {
      "text/plain": [
       "(0.5845634183414965, 0.521830900976963, 0.6644398372110881, 10)"
      ]
     },
     "execution_count": 34,
     "metadata": {},
     "output_type": "execute_result"
    }
   ],
   "source": [
    "F, P, R, len(hypinfo)"
   ]
  },
  {
   "cell_type": "markdown",
   "metadata": {},
   "source": [
    "### Investigate Errors"
   ]
  },
  {
   "cell_type": "code",
   "execution_count": 35,
   "metadata": {},
   "outputs": [],
   "source": [
    "def printDebuggingInfo(hypdir, gtfile, scoreInfo, midiInfo, queryInfo):\n",
    "    d = readGroundTruthLabels(gtfile)\n",
    "    hyps = readHypothesisFiles(hypdir)\n",
    "    for i, (query, hyp_tstart, hyp_tend) in enumerate(hyps):\n",
    "        \n",
    "        # hyp and ref info (sec)\n",
    "        piece = query.split('_')[0]\n",
    "        ref_tstart, ref_tend = d[query]\n",
    "        overlap = calcOverlap((hyp_tstart, hyp_tend), (ref_tstart, ref_tend))\n",
    "        \n",
    "        # hyp and ref info (measures)\n",
    "        interp_m = list(midiInfo[piece].keys())\n",
    "        interp_t = [midiInfo[piece][m] for m in interp_m]\n",
    "        hyp_mstart, hyp_mend, ref_mstart, ref_mend = np.interp([hyp_tstart, hyp_tend, ref_tstart, ref_tend], interp_t, interp_m)\n",
    "        moverlap = calcOverlap((hyp_mstart, hyp_mend),(ref_mstart, ref_mend))\n",
    "        \n",
    "        # hyp and ref info (line # + measure offset)\n",
    "        hyp_lstart, hyp_lstartoff = getLineNumberMeasureOffset(hyp_mstart, scoreInfo[piece])\n",
    "        hyp_lend, hyp_lendoff = getLineNumberMeasureOffset(hyp_mend, scoreInfo[piece])\n",
    "        ref_lstart = queryInfo[query][4]\n",
    "        ref_lend = queryInfo[query][5]\n",
    "        \n",
    "        # compare in sec\n",
    "        print(\"{}: hyp ({:.1f} s,{:.1f} s), ref ({:.1f} s,{:.1f} s), overlap {:.1f} of {:.1f} s\".format(query, hyp_tstart, hyp_tend, ref_tstart, ref_tend, overlap, ref_tend - ref_tstart))\n",
    "        \n",
    "        # compare in measure numbers\n",
    "        #print(\"\\thyp ({:.1f} m, {:.1f} m), ref ({:.1f} m, {:.1f} m), overlap {:.1f} m\".format(hyp_mstart, hyp_mend, ref_mstart, ref_mend, moverlap))\n",
    "        \n",
    "        # compare in line + measure offset\n",
    "        print(\"\\thyp (ln {} m{:.1f}, ln {} m{:.1f}), ref (ln {}, ln {})\".format(hyp_lstart, hyp_lstartoff, hyp_lend, hyp_lendoff, ref_lstart, ref_lend))\n",
    "    return"
   ]
  },
  {
   "cell_type": "code",
   "execution_count": 36,
   "metadata": {},
   "outputs": [],
   "source": [
    "def getLineNumberMeasureOffset(measureNum, d):\n",
    "    line = -1\n",
    "    moffset = -1\n",
    "    for key in d:\n",
    "        lb, ub = d[key] # line start, end measure \n",
    "        if measureNum >= lb and measureNum < ub + 1:\n",
    "            line = key\n",
    "            moffset = measureNum - lb + 1\n",
    "            break\n",
    "    return line, moffset"
   ]
  },
  {
   "cell_type": "code",
   "execution_count": 37,
   "metadata": {},
   "outputs": [
    {
     "name": "stdout",
     "output_type": "stream",
     "text": [
      "p51_q1: hyp (0.0 s,11.5 s), ref (0.0 s,8.8 s), overlap 8.8 of 8.8 s\n",
      "\thyp (ln 1 m1.0, ln 3 m4.7), ref (ln 1, ln 2)\n",
      "p51_q10: hyp (0.2 s,10.7 s), ref (43.2 s,52.3 s), overlap 0.0 of 9.1 s\n",
      "\thyp (ln 1 m1.2, ln 3 m3.7), ref (ln 10, ln 11)\n",
      "p51_q2: hyp (0.0 s,26.0 s), ref (0.0 s,13.2 s), overlap 13.2 of 13.2 s\n",
      "\thyp (ln 1 m1.0, ln 7 m1.5), ref (ln 1, ln 3)\n",
      "p51_q3: hyp (0.0 s,20.6 s), ref (4.4 s,17.6 s), overlap 13.2 of 13.2 s\n",
      "\thyp (ln 1 m1.0, ln 5 m5.2), ref (ln 2, ln 4)\n",
      "p51_q4: hyp (6.4 s,21.9 s), ref (4.4 s,21.2 s), overlap 14.8 of 16.8 s\n",
      "\thyp (ln 2 m3.7, ln 6 m2.0), ref (ln 2, ln 5)\n",
      "p51_q5: hyp (15.2 s,24.9 s), ref (17.6 s,25.6 s), overlap 7.3 of 8.1 s\n",
      "\thyp (ln 4 m3.7, ln 6 m6.0), ref (ln 5, ln 6)\n",
      "p51_q6: hyp (23.4 s,37.9 s), ref (25.6 s,37.3 s), overlap 11.7 of 11.7 s\n",
      "\thyp (ln 6 m4.0, ln 9 m1.8), ref (ln 7, ln 8)\n",
      "p51_q7: hyp (23.4 s,43.4 s), ref (25.6 s,43.2 s), overlap 17.6 of 17.6 s\n",
      "\thyp (ln 6 m4.0, ln 10 m1.2), ref (ln 7, ln 9)\n",
      "p51_q8: hyp (11.9 s,29.1 s), ref (31.5 s,48.3 s), overlap 0.0 of 16.8 s\n",
      "\thyp (ln 3 m5.2, ln 7 m5.8), ref (ln 8, ln 10)\n",
      "p51_q9: hyp (0.2 s,20.5 s), ref (37.3 s,52.3 s), overlap 0.0 of 15.0 s\n",
      "\thyp (ln 1 m1.2, ln 5 m5.0), ref (ln 9, ln 11)\n"
     ]
    }
   ],
   "source": [
    "printDebuggingInfo(hypdir, queryGTFile, scoreInfo, midiInfo, queryInfo)"
   ]
  },
  {
   "cell_type": "code",
   "execution_count": null,
   "metadata": {},
   "outputs": [],
   "source": []
  }
 ],
 "metadata": {
  "kernelspec": {
   "display_name": "sheetmidiretrieval",
   "language": "python",
   "name": "sheetmidiretrieval"
  },
  "language_info": {
   "codemirror_mode": {
    "name": "ipython",
    "version": 3
   },
   "file_extension": ".py",
   "mimetype": "text/x-python",
   "name": "python",
   "nbconvert_exporter": "python",
   "pygments_lexer": "ipython3",
   "version": "3.6.8"
  }
 },
 "nbformat": 4,
 "nbformat_minor": 2
}
