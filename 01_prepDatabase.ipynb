{
 "cells": [
  {
   "cell_type": "code",
   "execution_count": 1,
   "metadata": {},
   "outputs": [],
   "source": [
    "%matplotlib inline"
   ]
  },
  {
   "cell_type": "code",
   "execution_count": 2,
   "metadata": {},
   "outputs": [],
   "source": [
    "import numpy as np\n",
    "import matplotlib.pyplot as plt\n",
    "from mido import MidiFile, tick2second\n",
    "from pretty_midi import PrettyMIDI\n",
    "import pickle\n",
    "import os\n",
    "import os.path"
   ]
  },
  {
   "cell_type": "markdown",
   "metadata": {},
   "source": [
    "### Generating bootleg score"
   ]
  },
  {
   "cell_type": "code",
   "execution_count": 3,
   "metadata": {},
   "outputs": [],
   "source": [
    "def showImage(X, sz = (6,6)):\n",
    "    plt.figure(figsize = sz)\n",
    "    plt.imshow(X, cmap = 'gray', origin = 'lower')"
   ]
  },
  {
   "cell_type": "code",
   "execution_count": 4,
   "metadata": {},
   "outputs": [],
   "source": [
    "def getNoteEvents(midifile, quant = 10):\n",
    "    ### Given a midi file, return a list of (t_tick, t_sec, notes) tuples for simultaneous note events\n",
    "    \n",
    "    # get note onset info\n",
    "    mid = MidiFile(midifile)\n",
    "    noteEvents = []\n",
    "    for i, track in enumerate(mid.tracks):\n",
    "        t = 0 \n",
    "        for msg in track:\n",
    "            t += msg.time # ticks since last event\n",
    "            if msg.type == 'note_on' and msg.velocity > 0:\n",
    "                noteEvents.append((t, msg.note))\n",
    "    noteEvents = sorted(noteEvents) # merge note events from all tracks, sort by time\n",
    "    noteTimes = PrettyMIDI(midifile).get_onsets() # in sec\n",
    "    noteOnsets = [(t_ticks, t_sec, note) for ((t_ticks, note), t_sec) in zip(noteEvents, noteTimes)]\n",
    "    \n",
    "    # collapse simultaneous notes\n",
    "    d = {}\n",
    "    ticks_quant = [n[0]//quant for n in noteOnsets] # quantized time units (ticks)\n",
    "    for n, t_quant in zip(noteOnsets, ticks_quant):\n",
    "        if t_quant not in d:\n",
    "            d[t_quant] = {}\n",
    "            d[t_quant]['ticks'] = []\n",
    "            d[t_quant]['secs'] = []\n",
    "            d[t_quant]['notes'] = []\n",
    "        d[t_quant]['ticks'].append(n[0])\n",
    "        d[t_quant]['secs'].append(n[1])\n",
    "        d[t_quant]['notes'].append(n[2])\n",
    "        \n",
    "    result = [(d[key]['ticks'][0], d[key]['secs'][0], d[key]['notes']) for key in sorted(d.keys())]\n",
    "    \n",
    "    return result, d # return d for debugging"
   ]
  },
  {
   "cell_type": "code",
   "execution_count": 5,
   "metadata": {},
   "outputs": [],
   "source": [
    "def generateBootlegScore(noteEvents, repeatNotes = 1, filler = 1):\n",
    "    rh_dim = 34 # E3 to C8 (inclusive)\n",
    "    lh_dim = 28 # A1 to G4 (inclusive)\n",
    "    rh = [] # list of arrays of size rh_dim\n",
    "    lh = [] # list of arrays of size lh_dim\n",
    "    times = [] # list of (tsec, ttick) tuples indicating the time in ticks and seconds\n",
    "    mapR, mapL = getNoteheadPlacementMapping() # maps midi numbers to locations on right and left hand staves\n",
    "    for i, (ttick, tsec, notes) in enumerate(noteEvents):\n",
    "        \n",
    "        # insert empty filler columns between note events\n",
    "        if i > 0:\n",
    "            for j in range(filler):\n",
    "                rh.append(np.zeros((rh_dim,1)))\n",
    "                lh.append(np.zeros((lh_dim,1)))\n",
    "            # get corresponding times using linear interpolation\n",
    "            interp_ticks = np.interp(np.arange(1, filler+1), [0, filler+1], [noteEvents[i-1][0], ttick])\n",
    "            interp_secs = np.interp(np.arange(1, filler+1), [0, filler+1], [noteEvents[i-1][1], tsec])\n",
    "            for tup in zip(interp_secs, interp_ticks):\n",
    "                times.append((tup[0], tup[1]))\n",
    "\n",
    "        # insert note events columns\n",
    "        rhvec = np.zeros((rh_dim, 1))\n",
    "        lhvec = np.zeros((lh_dim, 1))\n",
    "        for midinum in notes:\n",
    "            rhvec += getNoteheadPlacement(midinum, mapR, rh_dim)\n",
    "            lhvec += getNoteheadPlacement(midinum, mapL, lh_dim)\n",
    "        for j in range(repeatNotes):\n",
    "            rh.append(rhvec)\n",
    "            lh.append(lhvec)\n",
    "            times.append((tsec, ttick))\n",
    "    rh = np.clip(np.squeeze(np.array(rh)).T, 0, 1) # clip in case e.g. E and F played simultaneously\n",
    "    lh = np.clip(np.squeeze(np.array(lh)).T, 0, 1) \n",
    "    both = np.vstack((lh, rh))\n",
    "    staffLinesRH = [7,9,11,13,15]\n",
    "    staffLinesLH = [13,15,17,19,21]\n",
    "    staffLinesBoth = [13,15,17,19,21,35,37,39,41,43]\n",
    "    return both, times, staffLinesBoth, (rh, staffLinesRH), (lh, staffLinesLH)"
   ]
  },
  {
   "cell_type": "code",
   "execution_count": 6,
   "metadata": {},
   "outputs": [],
   "source": [
    "def getNoteheadPlacementMapping():\n",
    "    r = getNoteheadPlacementMappingRH()\n",
    "    l = getNoteheadPlacementMappingLH()\n",
    "    return r, l"
   ]
  },
  {
   "cell_type": "code",
   "execution_count": 7,
   "metadata": {},
   "outputs": [],
   "source": [
    "def getNoteheadPlacementMappingLH():\n",
    "    d = {}\n",
    "    # e.g. d[23] = [1,2] indicates that B0 could appear as a B or a C-flat, which means\n",
    "    # that the notehead could be located at positions 1 or 2\n",
    "    d[21] = [0] # A0 (position 0)\n",
    "    d[22] = [0,1]\n",
    "    d[23] = [1,2] # B0\n",
    "    d[24] = [1,2] # C1\n",
    "    d[25] = [2,3]\n",
    "    d[26] = [3] # D1\n",
    "    d[27] = [3,4]\n",
    "    d[28] = [4,5] # E1\n",
    "    d[29] = [4,5] # F1\n",
    "    d[30] = [5,6]\n",
    "    d[31] = [6] # G1\n",
    "    d[32] = [6,7] \n",
    "    d[33] = [7] # A1\n",
    "    d[34] = [7,8]\n",
    "    d[35] = [8,9] # B1\n",
    "    d[36] = [8,9] # C2\n",
    "    d[37] = [9,10] \n",
    "    d[38] = [10] # D2\n",
    "    d[39] = [10,11] \n",
    "    d[40] = [11,12] # E2\n",
    "    d[41] = [11,12] # F2\n",
    "    d[42] = [12,13] \n",
    "    d[43] = [13] # G2\n",
    "    d[44] = [13,14] \n",
    "    d[45] = [14] # A2\n",
    "    d[46] = [14,15] \n",
    "    d[47] = [15,16] # B2\n",
    "    d[48] = [15,16] # C3\n",
    "    d[49] = [16,17] \n",
    "    d[50] = [17] # D3\n",
    "    d[51] = [17,18] \n",
    "    d[52] = [18,19] # E3\n",
    "    d[53] = [18,19] # F3\n",
    "    d[54] = [19,20] \n",
    "    d[55] = [20] # G3\n",
    "    d[56] = [20,21] \n",
    "    d[57] = [21] # A3\n",
    "    d[58] = [21,22] \n",
    "    d[59] = [22,23] # B3\n",
    "    d[60] = [22,23] # C4\n",
    "    d[61] = [23,24] \n",
    "    d[62] = [24] # D4\n",
    "    d[63] = [24,25] \n",
    "    d[64] = [25,26] # E4\n",
    "    d[65] = [25,26] # F4\n",
    "    d[66] = [26,27] \n",
    "    d[67] = [27] # G4\n",
    "    return d"
   ]
  },
  {
   "cell_type": "code",
   "execution_count": 8,
   "metadata": {},
   "outputs": [],
   "source": [
    "def getNoteheadPlacementMappingRH():\n",
    "    d = {}\n",
    "    # e.g. d[52] = [0,1] indicates that E3 could appear as an E or an F-flat, which means\n",
    "    # that the notehead could be located at positions 0 or 1\n",
    "    d[52] = [0,1] # E3 (position 0)\n",
    "    d[53] = [0,1] # F3\n",
    "    d[54] = [1,2]\n",
    "    d[55] = [2] # G3\n",
    "    d[56] = [2,3]\n",
    "    d[57] = [3] # A3\n",
    "    d[58] = [3,4]\n",
    "    d[59] = [4,5] # B3\n",
    "    d[60] = [4,5] # C4\n",
    "    d[61] = [5,6]\n",
    "    d[62] = [6] # D4\n",
    "    d[63] = [6,7]\n",
    "    d[64] = [7,8] # E4\n",
    "    d[65] = [7,8] # F4\n",
    "    d[66] = [8,9]\n",
    "    d[67] = [9] # G4\n",
    "    d[68] = [9,10]\n",
    "    d[69] = [10] # A4\n",
    "    d[70] = [10,11]\n",
    "    d[71] = [11,12] # B4\n",
    "    d[72] = [11,12] # C5\n",
    "    d[73] = [12,13]\n",
    "    d[74] = [13] # D5\n",
    "    d[75] = [13,14]\n",
    "    d[76] = [14,15] # E5\n",
    "    d[77] = [14,15] # F5\n",
    "    d[78] = [15,16]\n",
    "    d[79] = [16] # G5\n",
    "    d[80] = [16,17]\n",
    "    d[81] = [17] # A5\n",
    "    d[82] = [17,18] \n",
    "    d[83] = [18,19] # B5\n",
    "    d[84] = [18,19] # C6\n",
    "    d[85] = [19,20]\n",
    "    d[86] = [20] # D6\n",
    "    d[87] = [20,21]\n",
    "    d[88] = [21,22] # E6\n",
    "    d[89] = [21,22] # F6\n",
    "    d[90] = [22,23]\n",
    "    d[91] = [23] # G6\n",
    "    d[92] = [23,24] \n",
    "    d[93] = [24] # A6\n",
    "    d[94] = [24,25]\n",
    "    d[95] = [25,26] # B6\n",
    "    d[96] = [25,26] # C7\n",
    "    d[97] = [26,27]\n",
    "    d[98] = [27] # D7\n",
    "    d[99] = [27,28] \n",
    "    d[100] = [28,29] # E7\n",
    "    d[101] = [28,29] # F7\n",
    "    d[102] = [29,30]\n",
    "    d[103] = [30] # G7\n",
    "    d[104] = [30,31]    \n",
    "    d[105] = [31] # A7\n",
    "    d[106] = [31,32]\n",
    "    d[107] = [32,33] # B7\n",
    "    d[108] = [32,33] # C8\n",
    "    return d"
   ]
  },
  {
   "cell_type": "code",
   "execution_count": 9,
   "metadata": {},
   "outputs": [],
   "source": [
    "def getNoteheadPlacement(midinum, midi2loc, dim):\n",
    "    r = np.zeros((dim, 1))\n",
    "    if midinum in midi2loc:\n",
    "        for idx in midi2loc[midinum]:\n",
    "            r[idx,0] = 1\n",
    "    return r"
   ]
  },
  {
   "cell_type": "code",
   "execution_count": 10,
   "metadata": {},
   "outputs": [],
   "source": [
    "def visualizeBootlegScore(bs, lines):\n",
    "    showImage(1 - bs, (10,10))\n",
    "    for l in range(1, bs.shape[0], 2):\n",
    "        plt.axhline(l, c = 'b')\n",
    "    for l in lines:\n",
    "        plt.axhline(l, c = 'r')"
   ]
  },
  {
   "cell_type": "code",
   "execution_count": 11,
   "metadata": {},
   "outputs": [],
   "source": [
    "midifile = 'data/midi/p1.mid'"
   ]
  },
  {
   "cell_type": "code",
   "execution_count": 12,
   "metadata": {},
   "outputs": [
    {
     "name": "stderr",
     "output_type": "stream",
     "text": [
      "/anaconda3/envs/sheetmidiretrieval/lib/python3.6/site-packages/pretty_midi/pretty_midi.py:100: RuntimeWarning: Tempo, Key or Time signature change events found on non-zero tracks.  This is not a valid type 0 or type 1 MIDI file.  Tempo, Key or Time Signature may be wrong.\n",
      "  RuntimeWarning)\n"
     ]
    },
    {
     "data": {
      "image/png": "[encoded data removed]",
      "text/plain": [
       "<Figure size 720x720 with 1 Axes>"
      ]
     },
     "metadata": {
      "needs_background": "light"
     },
     "output_type": "display_data"
    }
   ],
   "source": [
    "note_events, _ = getNoteEvents(midifile)\n",
    "bscore, times, stafflines, _, _ = generateBootlegScore(note_events, 2, 2)\n",
    "visualizeBootlegScore(bscore[:,0:140], stafflines)"
   ]
  },
  {
   "cell_type": "markdown",
   "metadata": {},
   "source": [
    "### Process midi files"
   ]
  },
  {
   "cell_type": "code",
   "execution_count": 13,
   "metadata": {},
   "outputs": [],
   "source": [
    "def processMidiFile(midifile, outfile):\n",
    "    \n",
    "    ### system parameters ###\n",
    "    timeQuantFactor = 10\n",
    "    bootlegRepeatNotes = 2\n",
    "    bootlegFiller = 2\n",
    "    #########################\n",
    "    \n",
    "    print(\"Processing {}\".format(midifile))\n",
    "    note_events, _ = getNoteEvents(midifile, timeQuantFactor)\n",
    "    bscore, times, stafflines, _, _ = generateBootlegScore(note_events, bootlegRepeatNotes, bootlegFiller)\n",
    "    \n",
    "    # save to file\n",
    "    d = {'bscore': bscore, 'times': times, 'stafflines': stafflines, 'note_events': note_events}\n",
    "    with open(outfile, 'wb') as f:\n",
    "        pickle.dump(d, f)"
   ]
  },
  {
   "cell_type": "code",
   "execution_count": 14,
   "metadata": {},
   "outputs": [],
   "source": [
    "def processAllMidiFiles(filelist, outdir):\n",
    "    if not os.path.isdir(outdir):\n",
    "        os.makedirs(outdir)\n",
    "    with open(filelist, 'r') as f:\n",
    "        for curfile in f:\n",
    "            curfile = curfile.rstrip()\n",
    "            basename = os.path.splitext(os.path.basename(curfile))[0]\n",
    "            outfile = \"{}/{}.pkl\".format(outdir, basename)\n",
    "            processMidiFile(curfile, outfile)"
   ]
  },
  {
   "cell_type": "code",
   "execution_count": 15,
   "metadata": {},
   "outputs": [
    {
     "name": "stdout",
     "output_type": "stream",
     "text": [
      "Processing ./data/midi/p1.mid\n",
      "Processing ./data/midi/p11.mid\n",
      "Processing ./data/midi/p21.mid\n",
      "Processing ./data/midi/p31.mid\n",
      "Processing ./data/midi/p41.mid\n",
      "Processing ./data/midi/p51.mid\n",
      "Processing ./data/midi/p61.mid\n",
      "Processing ./data/midi/p71.mid\n",
      "Processing ./data/midi/p81.mid\n",
      "Processing ./data/midi/p91.mid\n"
     ]
    }
   ],
   "source": [
    "filelist = 'cfg_files/midi.train.list' # list of all midi files to process\n",
    "basedir = 'experiments/exp1'\n",
    "outdir = '{}/db'.format(basedir) # where to save bootleg scores\n",
    "processAllMidiFiles(filelist, outdir)"
   ]
  },
  {
   "cell_type": "code",
   "execution_count": null,
   "metadata": {},
   "outputs": [],
   "source": []
  },
  {
   "cell_type": "code",
   "execution_count": null,
   "metadata": {},
   "outputs": [],
   "source": []
  }
 ],
 "metadata": {
  "kernelspec": {
   "display_name": "sheetmidiretrieval",
   "language": "python",
   "name": "sheetmidiretrieval"
  },
  "language_info": {
   "codemirror_mode": {
    "name": "ipython",
    "version": 3
   },
   "file_extension": ".py",
   "mimetype": "text/x-python",
   "name": "python",
   "nbconvert_exporter": "python",
   "pygments_lexer": "ipython3",
   "version": "3.6.8"
  }
 },
 "nbformat": 4,
 "nbformat_minor": 2
}
